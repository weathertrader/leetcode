{
 "cells": [
  {
   "cell_type": "code",
   "execution_count": 25,
   "metadata": {},
   "outputs": [
    {
     "name": "stdout",
     "output_type": "stream",
     "text": [
      "[1, 1, 0, 0, 0, 0]\n",
      "[1, 1, 1, 0, 0, 0]\n",
      "[1, 1, 1, 1, 0, 0]\n",
      "[1, 1, 1, 1, 1, 0]\n",
      "[1, 1, 1, 1, 1, 1]\n",
      "[1, 1, 2, 1, 1, 1]\n",
      "[1, 1, 2, 2, 1, 1]\n",
      "[1, 1, 2, 2, 3, 1]\n",
      "[1, 1, 2, 2, 3, 3]\n",
      "[1, 1, 2, 2, 3, 4]\n",
      "4\n"
     ]
    }
   ],
   "source": [
    "\n",
    "class Solution:\n",
    "    def coinChange(self, coins, amount):\n",
    "    \n",
    "        dp = [float('inf')] * (amount + 1)\n",
    "        dp[0] = 0\n",
    "        #print(dp)\n",
    "        \n",
    "        #print(coins)\n",
    "        #print(amount)\n",
    "        \n",
    "        for coin in coins:\n",
    "            print('coin %s' %(coin))\n",
    "            for i in range(coin, amount+1): # 5-12\n",
    "                print('  i %s' %(i))\n",
    "                dp[i] = min(dp[i], dp[i-coin]+1)\n",
    "                print('    dp %s' %(dp))\n",
    "        \n",
    "        #if dp[-1] != float('inf'):\n",
    "        #    return dp[-1] \n",
    "        #else: \n",
    "        #    return -1    \n",
    "    \n",
    "        if dp[amount] != float('inf'):\n",
    "            return dp[amount] \n",
    "        else: \n",
    "            return -1     \n",
    "\n",
    "        \n",
    "    def change(self, amount, coins):\n",
    "        #dp = [0] * [[len(coins)] for i in range(0,amount+1)]\n",
    "        dp = [0] * (amount + 1)\n",
    "        dp[0] = 1\n",
    "        for coin in coins:\n",
    "            for j in range(coin, amount+1):\n",
    "                dp[j] += dp[j-coin]\n",
    "                print(dp)\n",
    "        return dp[amount]\n",
    "    \n",
    "# dp[i][j] : the number of combinations to make up amount j by using the first i types of coins\n",
    "\n",
    "# not using the ith coin, only using the first i-1 coins to make up amount j, then we have dp[i-1][j] ways.\n",
    "\n",
    "# using the ith coin, since we can use unlimited same coin, \n",
    "#   we need to know how many ways to make up amount j - coins[i-1] by using first i coins(including ith), which is dp[i][j-coins[i-1]]\n",
    "\n",
    "amount = 5\n",
    "coins = 5\n",
    "\n",
    "# 1 i 1-6\n",
    "# [0, 0, 0, 0, 0, 0]\n",
    "# [0, 1, 0, 0, 0, 0]\n",
    "# [0, 1, 1, 0, 0, 0]\n",
    "# [0, 1, 1, 1, 0, 0]\n",
    "# [0, 1, 1, 1, 1, 0]\n",
    "# [0, 1, 1, 1, 1, 1]\n",
    "# 2 i 2-6\n",
    "# [0, 1, 2, 1, 1, 1]\n",
    "# [0, 1, 2, 2, 1, 1]\n",
    "# [0, 1, 2, 2, 3, 1]\n",
    "# [0, 1, 2, 2, 3, 3]\n",
    "# 5 i 5-6\n",
    "# [0, 1, 2, 2, 3, 3]\n",
    "# [0, 1, 2, 2, 3, 4]\n",
    "\n",
    "temp1 = Solution()\n",
    "print(temp1.change(amount, coins))\n"
   ]
  },
  {
   "cell_type": "code",
   "execution_count": 1,
   "metadata": {},
   "outputs": [
    {
     "name": "stdout",
     "output_type": "stream",
     "text": [
      "[[1, 1, 1, 1], [1, 1, 1, 1], [1, 1, 1, 1], [1, 1, 1, 1]]\n",
      "[[1, 1, 1, 1], [1, 2, 3, 4], [1, 1, 1, 1], [1, 1, 1, 1]]\n",
      "[[1, 1, 1, 1], [1, 2, 3, 4], [1, 3, 6, 10], [1, 1, 1, 1]]\n",
      "[[1, 1, 1, 1], [1, 2, 3, 4], [1, 3, 6, 10], [1, 4, 10, 20]]\n",
      "20\n"
     ]
    }
   ],
   "source": [
    "class Solution:\n",
    "    def uniquePaths(self, m, n):\n",
    "        table = [[1 for x in range(n)] for x in range(m)]\n",
    "        print(table)\n",
    "        for i in range(1,m):\n",
    "            for j in range(1,n):\n",
    "                table[i][j] = table[i-1][j] + table[i][j-1]\n",
    "            print(table)\n",
    "        return table[m-1][n-1]\n",
    "    \n",
    "\n",
    "    \n",
    "    \n",
    "temp1 = Solution()\n",
    "print(temp1.uniquePaths(4,4))\n",
    "    "
   ]
  },
  {
   "cell_type": "code",
   "execution_count": 7,
   "metadata": {},
   "outputs": [
    {
     "name": "stdout",
     "output_type": "stream",
     "text": [
      "[[0, 0, 0, 0, 0], [0, 0, 0, 0, 0], [0, 0, 0, 0, 0], [0, 0, 0, 0, 0], [0, 0, 0, 0, 0]]\n"
     ]
    }
   ],
   "source": [
    "n = 5\n",
    "m = 5\n",
    "\n",
    "print( [[0 for x in range(0, n, 1)] for x in range(0, m, 1)])\n"
   ]
  },
  {
   "cell_type": "code",
   "execution_count": null,
   "metadata": {},
   "outputs": [],
   "source": []
  }
 ],
 "metadata": {
  "kernelspec": {
   "display_name": "Python 3",
   "language": "python",
   "name": "python3"
  },
  "language_info": {
   "codemirror_mode": {
    "name": "ipython",
    "version": 3
   },
   "file_extension": ".py",
   "mimetype": "text/x-python",
   "name": "python",
   "nbconvert_exporter": "python",
   "pygments_lexer": "ipython3",
   "version": "3.7.7"
  }
 },
 "nbformat": 4,
 "nbformat_minor": 4
}
