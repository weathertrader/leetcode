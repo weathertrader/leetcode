{
 "cells": [
  {
   "cell_type": "code",
   "execution_count": null,
   "metadata": {},
   "outputs": [],
   "source": [
    "\n",
    "Heaps / Priority queue\n",
    "find smallest or Kth element\n",
    "Top is smallest index 0 \n",
    "Min Heap - binary tree where value at all nodes are less than children\n",
    "min is always at top of heap at index 0 \n",
    "stored in an array for O(1) lookup \n",
    "parent k is (k-1)//2, node k, children 2k+1 and 2k + 2.\n",
    "import heapq\n",
    "heapq.heapify(nums)\n",
    "heapq.nsmallest(k,nums)\n",
    "heapq.heappush(nums,n)\n",
    "heapq.heappop(nums)\n",
    "max heap - mult all values by -1\n",
    "nums = [-num for num in nums]\n",
    "# heap by count of items\n",
    "count = collections.Counter(words)\n",
    "heap = [(-freq, word) for word, freq in count.items()]\n",
    "heapq.heapify(heap)\n",
    "\n",
    "\n",
    "\n",
    "\n",
    "\n",
    "\n",
    "Binary search - input array is sorted, O(log n)\n",
    "left = 0, right = len(nums)-1\n",
    "while left < right:\n",
    "    if conf:\n",
    "        left -= 1\n",
    "    else: \n",
    "        right += 1  \n",
    "        \n",
    "Strings - immutable\n",
    "python implementation is bytes that represent unicode \n",
    "list(string), ‘’.join(string), .isdigit(), .isalpha()\n",
    "sorted_str = ‘’.join(sorted(strs[w])\n",
    "\n",
    "Hash Map\n",
    "Default dict does not throw an error for missing key\n",
    "cache = {} or = collections.defaultdict(int) # default init as 0 \n",
    "sort hash map based on values \n",
    "sorted_dict = sorted(dict_nums.items(), key=lambda x: x[1], reverse=True)\n",
    "for key,value in dict.items():\n",
    "\n",
    "Arrays\n",
    "edge cases [0]+nums+[0]\n",
    "ny,nx = len(nums), len(nums[0])\n",
    "                     \n",
    "                     \n",
    "                     \n",
    "        "
   ]
  },
  {
   "cell_type": "code",
   "execution_count": null,
   "metadata": {},
   "outputs": [],
   "source": []
  },
  {
   "cell_type": "code",
   "execution_count": null,
   "metadata": {},
   "outputs": [],
   "source": []
  },
  {
   "cell_type": "code",
   "execution_count": null,
   "metadata": {},
   "outputs": [],
   "source": []
  }
 ],
 "metadata": {
  "kernelspec": {
   "display_name": "Python [conda env:root] *",
   "language": "python",
   "name": "conda-root-py"
  },
  "language_info": {
   "codemirror_mode": {
    "name": "ipython",
    "version": 3
   },
   "file_extension": ".py",
   "mimetype": "text/x-python",
   "name": "python",
   "nbconvert_exporter": "python",
   "pygments_lexer": "ipython3",
   "version": "3.7.7"
  }
 },
 "nbformat": 4,
 "nbformat_minor": 4
}
