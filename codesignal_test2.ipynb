{
 "cells": [
  {
   "cell_type": "code",
   "execution_count": null,
   "metadata": {},
   "outputs": [],
   "source": [
    "import numpy as np"
   ]
  },
  {
   "cell_type": "code",
   "execution_count": null,
   "metadata": {},
   "outputs": [],
   "source": [
    "def prefixSumsToSuffixSums(prefixSums):\n",
    "    import numpy as np\n",
    "    len_array = len(prefixSums)\n",
    "    a = np.full([len_array], 0, dtype=int)\n",
    "    a[0] = prefixSums[0]\n",
    "    suffixSums = np.full([len_array], 0, dtype=int)\n",
    "    for n in range(1, len_array, 1):\n",
    "        #print(n)\n",
    "        a[n] = prefixSums[n] - prefixSums[n-1]\n",
    "    suffixSums[len_array-1] = a[len_array-1]\n",
    "    for n in range(0, len_array-1, 1):\n",
    "        #print(n)\n",
    "        suffixSums[len_array-n-2] = a[len_array-n-2]+suffixSums[len_array-n-1]\n",
    "    print(a)\n",
    "    print(suffixSums)    \n",
    "    return suffixSums\n",
    "    "
   ]
  },
  {
   "cell_type": "code",
   "execution_count": 9,
   "metadata": {},
   "outputs": [],
   "source": [
    "def prefixSumsToSuffixSums(prefixSums):\n",
    "    import numpy as np\n",
    "    len_array = len(prefixSums)\n",
    "    suffixSums = np.full([len_array], 0, dtype=int)\n",
    "    suffixSums[len_array-1] = prefixSums[len_array-1] - prefixSums[len_array-2] \n",
    "    #print(suffixSums)    \n",
    "    for n in range(2, len_array+1, 1):\n",
    "        n_rev = len_array-n\n",
    "        print(n_rev)\n",
    "        if (n_rev == 0):\n",
    "            suffixSums[0] = suffixSums[1] + prefixSums[0] \n",
    "        else:\n",
    "            #print ((prefixSums[len_array-n+1] + prefixSums[len_array-n]))\n",
    "            suffixSums[n_rev] = suffixSums[n_rev+1] + (prefixSums[n_rev] - prefixSums[n_rev-1])\n",
    "    return suffixSums\n",
    "    "
   ]
  },
  {
   "cell_type": "code",
   "execution_count": 10,
   "metadata": {},
   "outputs": [
    {
     "name": "stdout",
     "output_type": "stream",
     "text": [
      "3\n",
      "2\n",
      "1\n",
      "0\n",
      "[15 14 12  9  5]\n"
     ]
    }
   ],
   "source": [
    "prefixSums = [1, 3, 6, 10, 15]\n",
    "print (prefixSumsToSuffixSums(prefixSums))"
   ]
  },
  {
   "cell_type": "code",
   "execution_count": null,
   "metadata": {},
   "outputs": [],
   "source": [
    "\n",
    "\n",
    "prefixSums: [ 1,  3,  6, 10, 15]\n",
    "suffixSums: [15, 14, 12,  9,  5]"
   ]
  },
  {
   "cell_type": "code",
   "execution_count": null,
   "metadata": {},
   "outputs": [],
   "source": [
    "\n"
   ]
  },
  {
   "cell_type": "code",
   "execution_count": null,
   "metadata": {},
   "outputs": [],
   "source": [
    "a = [1, 2, 3, 4, 5]"
   ]
  },
  {
   "cell_type": "code",
   "execution_count": null,
   "metadata": {},
   "outputs": [],
   "source": [
    "len_array = len(a)\n",
    "prefixSums = np.full([len_array], 0, dtype=int)\n",
    "suffixSums = np.full([len_array], 0, dtype=int)\n",
    "suffixSums[len_array-1] = a[len_array-1]\n",
    "prefix_sufms[0] = a[0]\n",
    "for n in range(0, len_array-1, 1):\n",
    "    #print(n)\n",
    "    prefixSums[n] = a[n]+prefixSums[n-1]\n",
    "for n in range(0, len_array-1, 1):\n",
    "    print(n)\n",
    "    suffixSums[len_array-n-2] = a[len_array-n-2]+suffixSums[len_array-n-1]\n",
    "\n",
    "prefixSums[len_array-1] = a[len_array-1]+prefixSums[len_array-2]\n",
    "\n",
    "print(prefixSums)\n",
    "print(prefixSums[len_array-1])\n",
    "print(suffixSums)\n"
   ]
  },
  {
   "cell_type": "code",
   "execution_count": null,
   "metadata": {},
   "outputs": [],
   "source": [
    "prefixSums = [1, 3, 6, 10, 15]\n",
    "len_array = len(prefixSums)\n",
    "\n",
    "a = np.full([len_array], 0, dtype=int)\n",
    "a[0] = prefixSums[0]\n",
    "suffix_sums = np.full([len_array], 0, dtype=int)\n",
    "for n in range(1, len_array, 1):\n",
    "    #print(n)\n",
    "    a[n] = prefix_sums[n] - prefix_sums[n-1]\n",
    "suffix_sums[len_array-1] = a[len_array-1]\n",
    "for n in range(0, len_array-1, 1):\n",
    "    #print(n)\n",
    "    suffix_sums[len_array-n-2] = a[len_array-n-2]+suffix_sums[len_array-n-1]\n",
    "\n",
    "print(a)\n",
    "print(suffix_sums)\n",
    "\n",
    "#     suffix_sums[len_array-n-2] = a[len_array-n-2]+suffix_sums[len_array-n-1]\n",
    "\n",
    "\n",
    "# prefix_sums[0] = a[0]\n",
    "# for n in range(0, len_array-1, 1):\n",
    "#     #print(n)\n",
    "#     prefix_sums[n] = a[n]+prefix_sums[n-1]\n",
    "# for n in range(0, len_array-1, 1):\n",
    "#     print(n)\n",
    "#     suffix_sums[len_array-n-2] = a[len_array-n-2]+suffix_sums[len_array-n-1]\n",
    "\n",
    "# prefix_sums[len_array-1] = a[len_array-1]+prefix_sums[len_array-2]\n",
    "\n",
    "# print(prefix_sums)\n",
    "# print(prefix_sums[len_array-1])\n"
   ]
  },
  {
   "cell_type": "code",
   "execution_count": null,
   "metadata": {},
   "outputs": [],
   "source": [
    "prefixSums = [1, 3, 6, 10, 15]\n",
    "suffixSums = [15, 14, 12, 9, 5]\n",
    "\n",
    "prefixSumsToSuffixSums(prefixSums) = [15, 14, 12, 9, 5].\n"
   ]
  }
 ],
 "metadata": {
  "kernelspec": {
   "display_name": "Python 3",
   "language": "python",
   "name": "python3"
  },
  "language_info": {
   "codemirror_mode": {
    "name": "ipython",
    "version": 3
   },
   "file_extension": ".py",
   "mimetype": "text/x-python",
   "name": "python",
   "nbconvert_exporter": "python",
   "pygments_lexer": "ipython3",
   "version": "3.7.6"
  }
 },
 "nbformat": 4,
 "nbformat_minor": 4
}
