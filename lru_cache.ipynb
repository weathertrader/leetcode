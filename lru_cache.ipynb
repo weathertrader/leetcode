{
 "cells": [
  {
   "cell_type": "code",
   "execution_count": null,
   "metadata": {},
   "outputs": [],
   "source": [
    "\n",
    "from collections import OrderedDict\n",
    "\n",
    "class LRUCache:\n",
    "\n",
    "    def __init__(self, capacity):\n",
    "        self.capacity = capacity\n",
    "        self.cache = OrderedDict()\n",
    "        #self.cache = collections.OrderedDict()\n",
    "        \n",
    "    def get(self, key):\n",
    "        if not key in self.cache:\n",
    "            return -1\n",
    "        else:\n",
    "            # move to end of OrderedDict\n",
    "            self.cache.move_to_end(key)  \n",
    "            return self.cache[key]\n",
    "\n",
    "        \n",
    "    def put(self, key: int, value: int) -> None:\n",
    "        if key not in self.cache:\n",
    "            if len(self.cache) >= self.size:\n",
    "                self.cache.popitem(last=False) \n",
    "        else:\n",
    "            self.cache.move_to_end(key) # move to end of OrderedDict            \n",
    "        self.cache[key] = value\n",
    "\n",
    "        "
   ]
  },
  {
   "cell_type": "code",
   "execution_count": null,
   "metadata": {},
   "outputs": [],
   "source": [
    "class LRUCache:\n",
    "    def __init__(self, capacity):\n",
    "        self.size = capacity\n",
    "        self.cache = {}\n",
    "        self.next, self.before = {}, {}\n",
    "        self.head, self.tail = '#', '$'\n",
    "        self.connect(self.head, self.tail)\n",
    "\n",
    "    def connect(self, a, b):\n",
    "        self.next[a], self.before[b] = b, a\n",
    "\n",
    "    def delete(self, key):\n",
    "        self.connect(self.before[key], self.next[key])\n",
    "        del self.before[key], self.next[key], self.cache[key]\n",
    "\n",
    "    def append(self, key, value):\n",
    "        self.cache[key] = value\n",
    "        self.connect(self.before[self.tail], key)\n",
    "        self.connect(key, self.tail)\n",
    "        if len(self.cache) > self.size:\n",
    "            self.delete(self.next[self.head])\n",
    "\n",
    "    def get(self, key):\n",
    "        if key not in self.cache: \n",
    "            return -1\n",
    "        val = self.cache[key]\n",
    "        self.delete(key)\n",
    "        self.append(key, val)\n",
    "        return val\n",
    "\n",
    "    def put(self, key, value):\n",
    "        if key in self.cache: \n",
    "            self.delete(key)\n",
    "        self.append(key, value)\n",
    "        "
   ]
  }
 ],
 "metadata": {
  "kernelspec": {
   "display_name": "Python 3",
   "language": "python",
   "name": "python3"
  },
  "language_info": {
   "codemirror_mode": {
    "name": "ipython",
    "version": 3
   },
   "file_extension": ".py",
   "mimetype": "text/x-python",
   "name": "python",
   "nbconvert_exporter": "python",
   "pygments_lexer": "ipython3",
   "version": "3.7.7"
  }
 },
 "nbformat": 4,
 "nbformat_minor": 4
}
