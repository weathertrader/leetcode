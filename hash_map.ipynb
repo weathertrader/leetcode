{
 "cells": [
  {
   "cell_type": "code",
   "execution_count": 3,
   "metadata": {},
   "outputs": [
    {
     "name": "stdout",
     "output_type": "stream",
     "text": [
      "['1:00', '2:00', '4:00', '8:00', '0:01', '0:02', '0:04', '0:08', '0:16', '0:32']\n"
     ]
    }
   ],
   "source": [
    "class Solution:\n",
    "    def readBinaryWatch(self, num):\n",
    "        output_time_list = []\n",
    "        \n",
    "        hr_list = [1,2,4,8]\n",
    "        min_list = [1,2,4,8,16,32]\n",
    "        max_hr = 11\n",
    "        max_min = 59\n",
    "        n_hr_buttons  = len(hr_list)\n",
    "        n_min_buttons = len(min_list)\n",
    "        n_buttons = len(hr_list) + len(min_list)\n",
    "        num = 1\n",
    "        \n",
    "        \n",
    "        for n in range(0, n_buttons):\n",
    "            buttons_left = num\n",
    "            buttons_left = n\n",
    "            while buttons_left > 0:\n",
    "                buttons\n",
    "            \n",
    "            buttons_left -= 1\n",
    "            \n",
    "            \n",
    "        for n in range(0, n_buttons):\n",
    "            if (n < 4):\n",
    "                output_time = str(hr_list[n])+\":00\"\n",
    "            else:\n",
    "                output_time = \"0:\"+str(min_list[n-4]).zfill(2)\n",
    "        \n",
    "            output_time_list.append(output_time)\n",
    "        return output_time_list\n",
    "\n",
    "    \n"
   ]
  },
  {
   "cell_type": "code",
   "execution_count": null,
   "metadata": {},
   "outputs": [],
   "source": []
  }
 ],
 "metadata": {
  "kernelspec": {
   "display_name": "Python 3",
   "language": "python",
   "name": "python3"
  },
  "language_info": {
   "codemirror_mode": {
    "name": "ipython",
    "version": 3
   },
   "file_extension": ".py",
   "mimetype": "text/x-python",
   "name": "python",
   "nbconvert_exporter": "python",
   "pygments_lexer": "ipython3",
   "version": "3.7.7"
  }
 },
 "nbformat": 4,
 "nbformat_minor": 4
}
