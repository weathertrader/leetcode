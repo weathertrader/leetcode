{
 "cells": [
  {
   "cell_type": "code",
   "execution_count": null,
   "id": "7f3a4c85",
   "metadata": {},
   "outputs": [],
   "source": [
    "\n",
    "# import datetime as datetime\n",
    "from datetime import datetime, timedelta\n",
    "\n",
    "\n",
    "firstDate = \"  1-January-2000  \"\n",
    "print(datetime.strptime(firstDate.strip(), \"%d-%B-%Y\"))\n",
    "\n"
   ]
  },
  {
   "cell_type": "code",
   "execution_count": null,
   "id": "d0d50aa0",
   "metadata": {},
   "outputs": [],
   "source": [
    "\n",
    "import requests\n",
    "from datetime import datetime, timedelta\n",
    "import json\n",
    "import time\n",
    "\n",
    "    \n",
    "def  openAndClosePrices(firstDate, lastDate):\n",
    "    url_base = \"https://jsonmock.hackerrank.com/api/stocks/search?date=\"    \n",
    "    dt_start = datetime.strptime(firstDate.strip(), \"%d-%B-%Y\")\n",
    "    dt_end   = datetime.strptime(lastDate.strip(), \"%d-%B-%Y\") \n",
    "    year, yy_end = dt_start.year, dt_end.year\n",
    "    while year <= yy_end:\n",
    "        url = url_base + str(year)\n",
    "        response = requests.get(url)\n",
    "        if response.status_code == 200:\n",
    "            content = response.json()\n",
    "            if content[\"data\"][0]:\n",
    "                for item in content[\"data\"]:\n",
    "                    dt_str = item[\"date\"]\n",
    "                    dt = datetime.strptime(dt_str, \"%d-%B-%Y\")\n",
    "                    if dt >= dt_start and dt <= dt_end:\n",
    "                        temp_str = f\"{dt_str} {item['open']} {item['close']}\"\n",
    "                        print(temp_str)\n",
    "        year += 1\n",
    "        \n",
    "    \n",
    "openAndClosePrices(firstDate, lastDate)    \n",
    "    \n",
    "    "
   ]
  },
  {
   "cell_type": "code",
   "execution_count": null,
   "id": "9fc21a48",
   "metadata": {},
   "outputs": [],
   "source": [
    "def  openAndClosePrices(firstDate, lastDate):\n",
    "    dt_start = datetime.strptime(firstDate, \"%d-%B-%Y\")\n",
    "    dt_end   = datetime.strptime(lastDate, \"%d-%B-%Y\") \n",
    "    yy_start = dt_start.year\n",
    "    yy_end = dt_end.year\n",
    "    print(yy_start, yy_end)\n",
    "    url_base = \"https://jsonmock.hackerrank.com/api/stocks/?date=\"\n",
    "    dt = dt_start\n",
    "    while dt <= dt_end:\n",
    "        dt_str = dt.strftime(\"%d-%B-%Y\")\n",
    "        if dt_str.startswith(\"0\"):\n",
    "            dt_str = dt_str[1:]\n",
    "        url = url_base + dt_str\n",
    "        response = requests.get(url)\n",
    "        if response.status_code == 200:\n",
    "            content = response.json()\n",
    "            # page, n_entries, total_pages = content[\"page\"], content[\"total\"], content[\"total_pages\"]\n",
    "            # print(page, n_entries, total_pages)\n",
    "            # print(content[\"data\"])\n",
    "            if content[\"data\"]:\n",
    "                temp_str = f\"{dt_str} {content['data'][0]['open']} {content['data'][0]['close']}\"\n",
    "                print(temp_str)\n",
    "        dt += timedelta(days=1)\n"
   ]
  },
  {
   "cell_type": "code",
   "execution_count": null,
   "id": "b82d7df4",
   "metadata": {},
   "outputs": [],
   "source": [
    "content = {}\n",
    "content[\"data\"] = [{\n",
    "    \"date\":\"24-April-2000\",\n",
    "    \"open\":4723.27,\n",
    "    \"high\":4723.27,\n",
    "    \"low\":4509.09,\n",
    "    \"close\":4511.05}]    \n",
    "print(content[\"data\"][0][\"open\"])\n",
    "\n",
    "content[\"data\"] = []\n",
    "print(content[\"data\"][0])\n",
    "\n",
    "\n"
   ]
  },
  {
   "cell_type": "code",
   "execution_count": null,
   "id": "dd0bdc28",
   "metadata": {},
   "outputs": [],
   "source": []
  }
 ],
 "metadata": {
  "kernelspec": {
   "display_name": "Python 3",
   "language": "python",
   "name": "python3"
  },
  "language_info": {
   "codemirror_mode": {
    "name": "ipython",
    "version": 3
   },
   "file_extension": ".py",
   "mimetype": "text/x-python",
   "name": "python",
   "nbconvert_exporter": "python",
   "pygments_lexer": "ipython3",
   "version": "3.8.5"
  }
 },
 "nbformat": 4,
 "nbformat_minor": 5
}
