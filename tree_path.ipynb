{
 "cells": [
  {
   "cell_type": "code",
   "execution_count": 1,
   "metadata": {},
   "outputs": [],
   "source": [
    "class Tree(object):\n",
    "  def __init__(self, x):\n",
    "    self.value = x\n",
    "    self.left = None\n",
    "    self.right = None\n"
   ]
  },
  {
   "cell_type": "code",
   "execution_count": 2,
   "metadata": {},
   "outputs": [],
   "source": [
    "\n",
    "# t = {\n",
    "#     \"value\": 5,\n",
    "#     \"left\": {\n",
    "#         \"value\": 2,\n",
    "#         \"left\": {\n",
    "#             \"value\": 10,\n",
    "#             \"left\": null,\n",
    "#             \"right\": null\n",
    "#         },\n",
    "#         \"right\": {\n",
    "#             \"value\": 4,\n",
    "#             \"left\": null,\n",
    "#             \"right\": null\n",
    "#         }\n",
    "#     },\n",
    "#     \"right\": {\n",
    "#         \"value\": -3,\n",
    "#         \"left\": null,\n",
    "#         \"right\": null\n",
    "#     }\n",
    "# }\n",
    "\n",
    "t = Tree(5) \n",
    "t.left  = Tree(2) \n",
    "t.right = Tree(-3) \n",
    "t.left.left  = Tree(10) \n",
    "t.left.right = Tree(4) \n"
   ]
  },
  {
   "cell_type": "code",
   "execution_count": null,
   "metadata": {},
   "outputs": [],
   "source": [
    "\n"
   ]
  },
  {
   "cell_type": "code",
   "execution_count": 42,
   "metadata": {},
   "outputs": [],
   "source": [
    "def treePaths(t):\n",
    "    def create_dfs_list(root, temp_str, full_list):\n",
    "        print(temp_str)\n",
    "        if not root.left and not root.right:\n",
    "            #temp_str.append(root.value)\n",
    "            #temp_str = temp_str+'->'+str(root.value)\n",
    "            full_list = full_list.append(temp_str)\n",
    "            #result.append(temp_str)\n",
    "        else:\n",
    "            temp_str = temp_str+'->'\n",
    "            if root.left:\n",
    "                create_dfs_list(root.left,  temp_str+str(root.left.value), full_list)\n",
    "            if root.right:\n",
    "                create_dfs_list(root.right, temp_str+str(root.right.value), full_list)\n",
    "\n",
    "    full_list = []\n",
    "    if t.value:\n",
    "        temp_str = str(t.value)\n",
    "        create_dfs_list(t, temp_str, full_list)\n",
    "    return full_list\n",
    "            "
   ]
  },
  {
   "cell_type": "code",
   "execution_count": 43,
   "metadata": {},
   "outputs": [
    {
     "name": "stdout",
     "output_type": "stream",
     "text": [
      "5\n",
      "5->2\n",
      "5->2->10\n",
      "5->2->4\n",
      "5->-3\n",
      "['5->2->10', '5->2->4', '5->-3']\n"
     ]
    }
   ],
   "source": [
    "print (treePaths(t))\n",
    "\n",
    "# = [\"5->2->10\", \"5->2->4\", \"5->-3\"].)"
   ]
  },
  {
   "cell_type": "code",
   "execution_count": null,
   "metadata": {},
   "outputs": [],
   "source": [
    "Expected Output:\n",
    "[\"5->2->10\", \n",
    " \"5->2->4\", \n",
    " \"5->-3\"]\n"
   ]
  }
 ],
 "metadata": {
  "kernelspec": {
   "display_name": "Python 3",
   "language": "python",
   "name": "python3"
  },
  "language_info": {
   "codemirror_mode": {
    "name": "ipython",
    "version": 3
   },
   "file_extension": ".py",
   "mimetype": "text/x-python",
   "name": "python",
   "nbconvert_exporter": "python",
   "pygments_lexer": "ipython3",
   "version": "3.7.7"
  }
 },
 "nbformat": 4,
 "nbformat_minor": 4
}
