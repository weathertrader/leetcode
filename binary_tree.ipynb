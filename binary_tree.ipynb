{
 "cells": [
  {
   "cell_type": "code",
   "execution_count": 95,
   "metadata": {},
   "outputs": [],
   "source": [
    "# Definition for a binary tree node.\n",
    "class TreeNode:\n",
    "    def __init__(self, val=0, left=None, right=None):\n",
    "        self.val = val\n",
    "        self.left = left\n",
    "        self.right = right\n",
    "        \n",
    "class Solution:\n",
    "    def hasPathSum(self, root: TreeNode, sum: int) -> bool:\n",
    "        # if root is None: \n",
    "        #     return False \n",
    "        # else:\n",
    "        #     current_difference = sum - root.val\n",
    "        #     print ('current_difference is %s ' %(current_difference))\n",
    "        #     if   (current_difference == 0):\n",
    "        #         return True\n",
    "        #     elif (current_difference > 0):\n",
    "        #         return self.hasPathSum(root.left, current_difference)\n",
    "        #     elif (current_difference < 0):\n",
    "        #         return self.hasPathSum(root.right, current_difference)\n",
    "        \n",
    "        #if not (root):\n",
    "        #    return False\n",
    "        #if (root.val == sum) and not (root.left or root.right):\n",
    "        #    return True\n",
    "        #sum = sum - root.val\n",
    "        #return (self.hasPathSum(root.left, sum)) or (self.hasPathSum(root.right, sum))        \n",
    "        \n",
    "        if not (root.left and root.right):\n",
    "            if (root.val == sum):\n",
    "                return True\n",
    "        sum = sum - root.val\n",
    "        if (root.left):\n",
    "            self.hasPathSum(root.left, sum)\n",
    "        if (root.right):\n",
    "            self.hasPathSum(root.right, sum)        \n",
    "        \n",
    "\n",
    "    #def pathSum(self, root, sum):\n",
    "    #    result = []\n",
    "    #    self.dfs(root, sum, [], result)\n",
    "    #    return result\n",
    "\n",
    "    #def dfs(self, root, sum, tmp, result):\n",
    "    #    if not root:\n",
    "    #        return\n",
    "    #    if root.left == None and root.right == None and sum == root.val:\n",
    "    #        result.append(tmp+[root.val])\n",
    "    #        return\n",
    "    #    self.dfs(root.left,  sum-root.val, tmp+[root.val], result)\n",
    "    #    self.dfs(root.right, sum-root.val, tmp+[root.val], result)        \n",
    "        \n",
    "    def pathSum(self, root, sum):\n",
    "        if not root:\n",
    "            return []\n",
    "        result = []\n",
    "        self.dfs(root, sum, [], result)\n",
    "        return result\n",
    "\n",
    "    def dfs(self, root, sum, list_temp, result):\n",
    "        if not root.left and not root.right and sum == root.val:\n",
    "            list_temp.append(root.val)\n",
    "            result.append(list_temp)\n",
    "        if root.left:\n",
    "            self.dfs(root.left,  sum-root.val, list_temp+[root.val], result)\n",
    "        if root.right:\n",
    "            self.dfs(root.right, sum-root.val, list_temp+[root.val], result)\n",
    "\n",
    "    # def isSameTree(self, p: TreeNode, q: TreeNode) -> bool:\n",
    "    #     if not root:\n",
    "    #         return False\n",
    "    #     result1 = []\n",
    "    #     result2 = []\n",
    "    #     self.create_dfs_list(p, result1)\n",
    "    #     #result1 = list_temp\n",
    "    #     #print(list_temp)\n",
    "    #     #self.create_dfs_list(q, [])\n",
    "    #     if (result1 == result2):\n",
    "    #         return True\n",
    "    #     else:\n",
    "    #         return False\n",
    "\n",
    "    # def create_dfs_list(self, root, list_temp):\n",
    "    #     print(list_temp)\n",
    "    #     if not root.left and not root.right:\n",
    "    #         list_temp.append(root.val)\n",
    "    #         #result.append(list_temp)\n",
    "    #     if root.left:\n",
    "    #         self.create_dfs_list(root.left,  list_temp+[root.val])\n",
    "    #     if root.right:\n",
    "    #         self.create_dfs_list(root.right, list_temp+[root.val])\n",
    "            \n",
    "    def isSameTree(self, p, q):\n",
    "        #if not p or not q: \n",
    "        #    return p == q\n",
    "        #if p.val != q.val: \n",
    "        #    return False\n",
    "        if not q and not p:\n",
    "            return True\n",
    "        elif not p or not q:\n",
    "            return False\n",
    "        elif p.val != q.val:\n",
    "            return False\n",
    "        else:        \n",
    "            left  = self.isSameTree(p.left, q.left)\n",
    "            right = self.isSameTree(p.right, q.right)\n",
    "            return left and right\n",
    "    \n",
    "\n",
    "            "
   ]
  },
  {
   "cell_type": "code",
   "execution_count": 96,
   "metadata": {},
   "outputs": [
    {
     "name": "stdout",
     "output_type": "stream",
     "text": [
      "answer is True\n"
     ]
    }
   ],
   "source": [
    "root1 = Node(1) \n",
    "root1.left = Node(2) \n",
    "root1.right = Node(3) \n",
    "root2 = Node(1) \n",
    "root2.left = Node(2) \n",
    "root2.right = Node(3) \n",
    "\n",
    "temp1 = Solution()\n",
    "\n",
    "\n",
    "print (\"answer is %s\" %(temp1.isSameTree(root1,root2)))\n",
    "\n",
    "       "
   ]
  },
  {
   "cell_type": "code",
   "execution_count": null,
   "metadata": {},
   "outputs": [],
   "source": [
    "\n",
    "#root = Node(1) \n",
    "#root.left = Node(2) \n",
    "#root.right = Node(3) \n",
    "#root.left.left  = Node(4) \n",
    "#root.left.right = Node(5) \n",
    "#root = Node(5) \n",
    "#root.left = Node(4) \n",
    "#root.right = Node(8) \n",
    "#root.left.left  = Node(11) \n",
    "#root.left.left.left  = Node(7) \n",
    "#root.left.left.right = Node(2) \n",
    "#root.right.left  = Node(13) \n",
    "#root.right.right = Node(4) \n",
    "#root.right.right.left  = Node(5) \n",
    "#root.right.right.right = Node(1) \n",
    "\n",
    "#temp1 = Solution()\n",
    "#print (\"answer is %s\" %(temp1.pathSum(root,22)))\n",
    "\n",
    "\n",
    "#print (\"Max depth is %s\" %(maxDepth(root)))\n",
    "#print (\"Size of the tree is %d\" %(size(root)))\n"
   ]
  },
  {
   "cell_type": "code",
   "execution_count": 70,
   "metadata": {},
   "outputs": [
    {
     "data": {
      "text/plain": [
       "False"
      ]
     },
     "execution_count": 70,
     "metadata": {},
     "output_type": "execute_result"
    }
   ],
   "source": [
    "a = [1,1,2]\n",
    "b = [1,2,1]\n",
    "a==b"
   ]
  },
  {
   "cell_type": "code",
   "execution_count": 27,
   "metadata": {},
   "outputs": [],
   "source": [
    "class Node: \n",
    "    def __init__(self,key): \n",
    "        self.left = None\n",
    "        self.right = None\n",
    "        self.val = key \n",
    "\n",
    "def size(node): \n",
    "    if node is None: \n",
    "        return 0 \n",
    "    else: \n",
    "        return (size(node.left) + 1 + size(node.right)) \n",
    "          \n",
    "def minValue(node): \n",
    "    current = node \n",
    "    # loop down to find the lefmost leaf \n",
    "    while(current.left is not None): \n",
    "        current = current.left \n",
    "    return current.data \n",
    "          \n",
    "def maxDepth(node): \n",
    "    if node is None: \n",
    "        return 0 \n",
    "    else:\n",
    "        depth_left  = maxDepth(node.left)\n",
    "        depth_right = maxDepth(node.right)\n",
    "        #if (maxDepth(node.left) > maxDepth(node.right)):\n",
    "        if (depth_left > depth_right):\n",
    "            return (depth_left+1)\n",
    "        else: \n",
    "            return (depth_right+1)\n",
    "\n",
    "  \n",
    "        "
   ]
  },
  {
   "cell_type": "code",
   "execution_count": 29,
   "metadata": {},
   "outputs": [
    {
     "name": "stdout",
     "output_type": "stream",
     "text": [
      "Max depth is 3\n"
     ]
    }
   ],
   "source": [
    "root = Node(1) \n",
    "root.left = Node(2) \n",
    "root.right = Node(3) \n",
    "root.left.left  = Node(4) \n",
    "root.left.right = Node(5) \n",
    "\n",
    "print (\"Max depth is %s\" %(maxDepth(root)))\n",
    "#print (\"Size of the tree is %d\" %(size(root)))\n",
    "       \n",
    "       "
   ]
  },
  {
   "cell_type": "code",
   "execution_count": 3,
   "metadata": {},
   "outputs": [
    {
     "name": "stdout",
     "output_type": "stream",
     "text": [
      "<__main__.Node object at 0x7a9ed8497510>\n"
     ]
    }
   ],
   "source": [
    "print(root)"
   ]
  },
  {
   "cell_type": "code",
   "execution_count": 10,
   "metadata": {},
   "outputs": [
    {
     "name": "stdout",
     "output_type": "stream",
     "text": [
      "Level order traversal of binary tree is -\n",
      "h is 3\n",
      "  i is 1\n",
      "  level 1 value is 1 \n",
      "  i is 2\n",
      "  level 1 value is 2 \n",
      "  level 1 value is 3 \n",
      "  i is 3\n",
      "  level 1 value is 4 \n",
      "  level 1 value is 5 \n"
     ]
    }
   ],
   "source": [
    "class Node: \n",
    "    def __init__(self, key): \n",
    "        self.data  = key  \n",
    "        self.left  = None\n",
    "        self.right = None\n",
    "    \n",
    "def printLevelOrder(root): \n",
    "    h = height(root) \n",
    "    print('h is %s' %(h))\n",
    "    for i in range(1, h+1): \n",
    "        print('  i is %s' %(i))\n",
    "        printGivenLevel(root, i) \n",
    "  \n",
    "# Print nodes at a given level \n",
    "def printGivenLevel(root , level): \n",
    "    if root is None: \n",
    "        return\n",
    "    if   (level == 1): \n",
    "        print ('  level 1 value is %s ' %(root.data))\n",
    "    elif (level > 1): \n",
    "        printGivenLevel(root.left,  level-1) \n",
    "        printGivenLevel(root.right, level-1) \n",
    "  \n",
    "def height(node): \n",
    "    if node is None: \n",
    "        return 0 \n",
    "    else : \n",
    "        # Compute the height of each subtree  \n",
    "        lheight = height(node.left) \n",
    "        rheight = height(node.right)  \n",
    "        #Use the larger one \n",
    "        if (lheight > rheight): \n",
    "            return lheight+1\n",
    "        else: \n",
    "            return rheight+1\n",
    "  \n",
    "# Driver program to test above function \n",
    "root = Node(1) \n",
    "root.left = Node(2) \n",
    "root.right = Node(3) \n",
    "root.left.left = Node(4) \n",
    "root.left.right = Node(5) \n",
    "  \n",
    "print (\"Level order traversal of binary tree is -\")\n",
    "printLevelOrder(root) \n",
    "  "
   ]
  },
  {
   "cell_type": "code",
   "execution_count": 18,
   "metadata": {},
   "outputs": [
    {
     "name": "stdout",
     "output_type": "stream",
     "text": [
      "Postorder traversal of binary tree is\n",
      "4\n",
      "5\n",
      "2\n",
      "3\n",
      "1\n"
     ]
    }
   ],
   "source": [
    "    \n",
    "# A function to do preorder tree traversal \n",
    "def printPreorder(root):\n",
    "    if root: \n",
    "        print(root.data)  \n",
    "        printPreorder(root.left) \n",
    "        printPreorder(root.right) \n",
    "\n",
    "def printInorder(root):\n",
    "    if root:\n",
    "        printInorder(root.left) \n",
    "        print(root.data) \n",
    "        printInorder(root.right) \n",
    "\n",
    "def printPostorder(root):   \n",
    "    if root:  \n",
    "        printPostorder(root.left) \n",
    "        printPostorder(root.right)   \n",
    "        print(root.data) \n",
    "        \n",
    "# Driver code \n",
    "root = Node(1) \n",
    "root.left      = Node(2) \n",
    "root.right     = Node(3) \n",
    "root.left.left  = Node(4) \n",
    "root.left.right  = Node(5) \n",
    "#print (\"Preorder traversal of binary tree is\")\n",
    "#printPreorder(root) \n",
    "#print (\"Inorder traversal of binary tree is\")\n",
    "#printInorder(root) \n",
    "print (\"Postorder traversal of binary tree is\")\n",
    "printPostorder(root)         "
   ]
  },
  {
   "cell_type": "code",
   "execution_count": null,
   "metadata": {},
   "outputs": [],
   "source": []
  }
 ],
 "metadata": {
  "kernelspec": {
   "display_name": "Python [conda env:root] *",
   "language": "python",
   "name": "conda-root-py"
  },
  "language_info": {
   "codemirror_mode": {
    "name": "ipython",
    "version": 3
   },
   "file_extension": ".py",
   "mimetype": "text/x-python",
   "name": "python",
   "nbconvert_exporter": "python",
   "pygments_lexer": "ipython3",
   "version": "3.7.7"
  }
 },
 "nbformat": 4,
 "nbformat_minor": 4
}
