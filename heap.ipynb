{
 "cells": [
  {
   "cell_type": "code",
   "execution_count": null,
   "metadata": {},
   "outputs": [],
   "source": [
    "class Solution:\n",
    "\n",
    "    def compress(self, chars):\n",
    "        n_chars = len(chars)\n",
    "        slow = fast = 0\n",
    "        old_char = chars[0]\n",
    "        count = 0\n",
    "        for fast in range(1, n_chars, 1):\n",
    "            new_char = chars[fast]\n",
    "            if new_char == old_char:\n",
    "                count += 1\n",
    "            else\n",
    "        \n",
    "chars = [\"a\",\"a\",\"b\",\"b\",\"c\",\"c\",\"c\"]            \n",
    "# output should be [1, 1, 4, 2, 1, 1, 0, 0].        \n",
    "        \n",
    "temp1 = Solution()\n",
    "print(temp1.compress(chars))\n"
   ]
  },
  {
   "cell_type": "code",
   "execution_count": 24,
   "metadata": {},
   "outputs": [],
   "source": [
    "def heapify(nums, n, i):\n",
    "    # Find largest among root and children\n",
    "    largest = i\n",
    "    l = 2 * i + 1\n",
    "    r = 2 * i + 2\n",
    "  \n",
    "    if l < n and nums[i] < nums[l]:\n",
    "        largest = l\n",
    "  \n",
    "    if r < n and nums[largest] < nums[r]:\n",
    "        largest = r\n",
    "  \n",
    "    # If root is not largest, swap with largest and continue heapifying\n",
    "    if largest != i:\n",
    "        nums[i], nums[largest] = nums[largest], nums[i]\n",
    "        heapify(nums, n, largest)\n",
    "  \n",
    "def heapSort(nums):\n",
    "    n = len(nums)\n",
    "    # Build max heap\n",
    "    for i in range(n//2, -1, -1):\n",
    "        heapify(nums, n, i)\n",
    "        print(nums)\n",
    "  \n",
    "    for i in range(n-1, 0, -1):\n",
    "        # Swap\n",
    "        nums[i], nums[0] = nums[0], nums[i]\n",
    "  "
   ]
  },
  {
   "cell_type": "code",
   "execution_count": 25,
   "metadata": {},
   "outputs": [
    {
     "name": "stdout",
     "output_type": "stream",
     "text": [
      "[5, 7, 9, 1, 3]\n",
      "[5, 7, 9, 1, 3]\n",
      "[5, 7, 9, 1, 3]\n",
      "[9, 7, 5, 1, 3]\n",
      "[7, 5, 1, 3, 9]\n"
     ]
    }
   ],
   "source": [
    "nums = [5, 7, 9, 1, 3] \n",
    "print(nums)  \n",
    "heapSort(nums)\n",
    "print(nums)  \n",
    "\n"
   ]
  },
  {
   "cell_type": "code",
   "execution_count": 18,
   "metadata": {},
   "outputs": [
    {
     "name": "stdout",
     "output_type": "stream",
     "text": [
      "[5, 7, 9, 1, 3]\n",
      "[1, 3, 9, 7, 5]\n",
      "[-8, 3, 1, 7, 5, 9]\n",
      "[-8, 3, 1, 7, 5, 9]\n",
      "-8\n",
      "[1, 3, 9, 7, 5]\n",
      "[3, 5, 9, 7, 222]\n"
     ]
    },
    {
     "data": {
      "text/plain": [
       "[3, 5, 7, 9]"
      ]
     },
     "execution_count": 18,
     "metadata": {},
     "output_type": "execute_result"
    }
   ],
   "source": [
    "import heapq \n",
    "\n",
    "\n",
    "# create min-heap from list\n",
    "\n",
    "# heapq.heapify(nums)\n",
    "\n",
    "# ? \n",
    "# heapq.heappushpop(nums,2)\n",
    "\n",
    "\n",
    "\n",
    "nums = [5, 7, 9, 1, 3] \n",
    "print(nums)  \n",
    "\n",
    "# using heapify to convert list into heap \n",
    "# create a min heap in place, [0] element is the smallest, but rest of data is not sorted, does not copy array  \n",
    "heapq.heapify(nums) \n",
    "print(nums)  \n",
    "\n",
    "# add element to head (bottom) and reheap\n",
    "heapq.heappush(nums,-8)\n",
    "print(nums)  \n",
    "\n",
    "heapq.heapify(nums) \n",
    "print(nums)  \n",
    "\n",
    "# pop the smallest element from heap, and reheap\n",
    "min_value = heapq.heappop(nums)\n",
    "# heapq.heappop(nums,2)\n",
    "\n",
    "print(min_value)  \n",
    "print(nums)  \n",
    "\n",
    "# pop the smallest element and insert a new value\n",
    "heapq.heapreplace(nums,222)\n",
    "print(nums)  \n",
    "\n",
    "# return n largest values in heap\n",
    "heapq.nlargest(4, nums)\n",
    "\n",
    "# return n smallest values in heap\n",
    "heapq.nsmallest(4, nums)\n",
    "\n",
    "# printing created heap \n",
    "#print (\"The created heap is : \",end=\"\") \n",
    "#print (list(li)) \n",
    "  \n",
    "# using heappush() to push elements into heap \n",
    "# pushes 4 \n",
    "#heapq.heappush(li,4) \n",
    "  \n",
    "# printing modified heap \n",
    "#print (\"The modified heap after push is : \",end=\"\") \n",
    "#print (list(li)) \n",
    "  \n",
    "# using heappop() to pop smallest element \n",
    "#print (\"The popped and smallest element is : \",end=\"\") \n",
    "#print (heapq.heappop(li)) "
   ]
  }
 ],
 "metadata": {
  "kernelspec": {
   "display_name": "Python 3",
   "language": "python",
   "name": "python3"
  },
  "language_info": {
   "codemirror_mode": {
    "name": "ipython",
    "version": 3
   },
   "file_extension": ".py",
   "mimetype": "text/x-python",
   "name": "python",
   "nbconvert_exporter": "python",
   "pygments_lexer": "ipython3",
   "version": "3.7.7"
  }
 },
 "nbformat": 4,
 "nbformat_minor": 4
}
