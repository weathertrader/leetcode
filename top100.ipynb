{
 "cells": [
  {
   "cell_type": "code",
   "execution_count": 87,
   "id": "cce9ef2d",
   "metadata": {},
   "outputs": [],
   "source": [
    "class Solution:\n",
    "    def numSquares(self, n):\n",
    "        squares_set = set()\n",
    "        i = 1\n",
    "        while i*i <= n:\n",
    "            squares_set.add(i*i)\n",
    "            i += 1\n",
    "        dp = [n+1]*(n+1)\n",
    "        dp[0] = 9999\n",
    "        #dp[1] = 1\n",
    "        for i in range(0, n):\n",
    "            for num in squares_set:\n",
    "                if i + num <= n:\n",
    "                    if i == 0:\n",
    "                        dp[i+num] = 1\n",
    "                    else:\n",
    "                        dp[i+num] = min(dp[i+num], dp[i]+1)\n",
    "            print(i, dp)\n",
    "        return dp[-1]\n",
    "            \n",
    "        \n",
    "        \n",
    "         \n",
    "            \n",
    "        "
   ]
  },
  {
   "cell_type": "code",
   "execution_count": 88,
   "id": "89b5afa5",
   "metadata": {},
   "outputs": [
    {
     "name": "stdout",
     "output_type": "stream",
     "text": [
      "0 [9999, 1, 14, 14, 1, 14, 14, 14, 14, 1, 14, 14, 14, 14]\n",
      "1 [9999, 1, 2, 14, 1, 2, 14, 14, 14, 1, 2, 14, 14, 14]\n",
      "2 [9999, 1, 2, 3, 1, 2, 3, 14, 14, 1, 2, 3, 14, 14]\n",
      "3 [9999, 1, 2, 3, 1, 2, 3, 4, 14, 1, 2, 3, 4, 14]\n",
      "4 [9999, 1, 2, 3, 1, 2, 3, 4, 2, 1, 2, 3, 4, 2]\n",
      "5 [9999, 1, 2, 3, 1, 2, 3, 4, 2, 1, 2, 3, 4, 2]\n",
      "6 [9999, 1, 2, 3, 1, 2, 3, 4, 2, 1, 2, 3, 4, 2]\n",
      "7 [9999, 1, 2, 3, 1, 2, 3, 4, 2, 1, 2, 3, 4, 2]\n",
      "8 [9999, 1, 2, 3, 1, 2, 3, 4, 2, 1, 2, 3, 3, 2]\n",
      "9 [9999, 1, 2, 3, 1, 2, 3, 4, 2, 1, 2, 3, 3, 2]\n",
      "10 [9999, 1, 2, 3, 1, 2, 3, 4, 2, 1, 2, 3, 3, 2]\n",
      "11 [9999, 1, 2, 3, 1, 2, 3, 4, 2, 1, 2, 3, 3, 2]\n",
      "12 [9999, 1, 2, 3, 1, 2, 3, 4, 2, 1, 2, 3, 3, 2]\n",
      "2\n"
     ]
    }
   ],
   "source": [
    "\n",
    "n = 13\n",
    "print(Solution().numSquares(n))\n",
    "\n"
   ]
  },
  {
   "cell_type": "code",
   "execution_count": 39,
   "id": "4a9eef7e",
   "metadata": {},
   "outputs": [
    {
     "name": "stdout",
     "output_type": "stream",
     "text": [
      "defaultdict(None, {0: [0], 1: [1]})\n",
      "defaultdict(None, {0: [0], 1: [1, 4]})\n"
     ]
    }
   ],
   "source": [
    "\n",
    "import collections\n",
    "graph = collections.defaultdict()\n",
    "    \n",
    "graph[0] = [0]\n",
    "graph[1] = [1]\n",
    "print(graph)\n",
    "graph[1].append(4)\n",
    "print(graph)\n"
   ]
  },
  {
   "cell_type": "code",
   "execution_count": null,
   "id": "b6662359",
   "metadata": {},
   "outputs": [],
   "source": []
  },
  {
   "cell_type": "code",
   "execution_count": null,
   "id": "72d2822b",
   "metadata": {},
   "outputs": [],
   "source": []
  },
  {
   "cell_type": "code",
   "execution_count": null,
   "id": "2982887e",
   "metadata": {},
   "outputs": [],
   "source": []
  },
  {
   "cell_type": "code",
   "execution_count": null,
   "id": "b13e17e9",
   "metadata": {},
   "outputs": [],
   "source": []
  }
 ],
 "metadata": {
  "kernelspec": {
   "display_name": "Python 3",
   "language": "python",
   "name": "python3"
  },
  "language_info": {
   "codemirror_mode": {
    "name": "ipython",
    "version": 3
   },
   "file_extension": ".py",
   "mimetype": "text/x-python",
   "name": "python",
   "nbconvert_exporter": "python",
   "pygments_lexer": "ipython3",
   "version": "3.8.5"
  }
 },
 "nbformat": 4,
 "nbformat_minor": 5
}
