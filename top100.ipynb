{
 "cells": [
  {
   "cell_type": "code",
   "execution_count": 73,
   "id": "cce9ef2d",
   "metadata": {},
   "outputs": [],
   "source": [
    "class Solution:\n",
    "    def partitionLabels(self, S):\n",
    "        result = []\n",
    "        last_seen = {}\n",
    "        max_last_seen = 0\n",
    "        count = 0\n",
    "        for i, char in enumerate(S):\n",
    "            last_seen[char] = i\n",
    "        print(last_seen)\n",
    "        start = 0\n",
    "        for i, char in enumerate(S):\n",
    "            max_last_seen = max(max_last_seen, last_seen[char])\n",
    "            print(i, max_last_seen, char)\n",
    "            #count += 1\n",
    "            # last time any letter in this substring is present, start new partition\n",
    "            if i == max_last_seen: \n",
    "                result.append(i-start+1)\n",
    "                start = i+1\n",
    "                #result.append(count)\n",
    "                #count = 0\n",
    "        return result    \n",
    "\n",
    "            \n",
    "        "
   ]
  },
  {
   "cell_type": "code",
   "execution_count": 74,
   "id": "89b5afa5",
   "metadata": {},
   "outputs": [
    {
     "name": "stdout",
     "output_type": "stream",
     "text": [
      "{'a': 8, 'b': 5, 'c': 7, 'd': 14, 'e': 15, 'f': 11, 'g': 13, 'h': 19, 'i': 22, 'j': 23, 'k': 20, 'l': 21}\n",
      "0 8 a\n",
      "1 8 b\n",
      "2 8 a\n",
      "3 8 b\n",
      "4 8 c\n",
      "5 8 b\n",
      "6 8 a\n",
      "7 8 c\n",
      "8 8 a\n",
      "9 14 d\n",
      "10 15 e\n",
      "11 15 f\n",
      "12 15 e\n",
      "13 15 g\n",
      "14 15 d\n",
      "15 15 e\n",
      "16 19 h\n",
      "17 22 i\n",
      "18 23 j\n",
      "19 23 h\n",
      "20 23 k\n",
      "21 23 l\n",
      "22 23 i\n",
      "23 23 j\n",
      "[9, 7, 8]\n"
     ]
    }
   ],
   "source": [
    "\n",
    "string = \"ababcbacadefegdehijhklij\"\n",
    "print(Solution().partitionLabels(string))\n",
    "\n"
   ]
  },
  {
   "cell_type": "code",
   "execution_count": null,
   "id": "4a9eef7e",
   "metadata": {},
   "outputs": [],
   "source": [
    "\n",
    "import collections\n",
    "graph = collections.defaultdict()\n",
    "    \n",
    "graph[0] = [0]\n",
    "graph[1] = [1]\n",
    "print(graph)\n",
    "graph[1].append(4)\n",
    "print(graph)\n"
   ]
  },
  {
   "cell_type": "code",
   "execution_count": null,
   "id": "5e5226c3",
   "metadata": {},
   "outputs": [],
   "source": []
  },
  {
   "cell_type": "code",
   "execution_count": null,
   "id": "b7f589bb",
   "metadata": {},
   "outputs": [],
   "source": []
  },
  {
   "cell_type": "code",
   "execution_count": null,
   "id": "73108754",
   "metadata": {},
   "outputs": [],
   "source": []
  },
  {
   "cell_type": "code",
   "execution_count": null,
   "id": "ae77cd27",
   "metadata": {},
   "outputs": [],
   "source": []
  }
 ],
 "metadata": {
  "kernelspec": {
   "display_name": "Python 3",
   "language": "python",
   "name": "python3"
  },
  "language_info": {
   "codemirror_mode": {
    "name": "ipython",
    "version": 3
   },
   "file_extension": ".py",
   "mimetype": "text/x-python",
   "name": "python",
   "nbconvert_exporter": "python",
   "pygments_lexer": "ipython3",
   "version": "3.8.5"
  }
 },
 "nbformat": 4,
 "nbformat_minor": 5
}
