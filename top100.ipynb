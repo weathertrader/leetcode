{
 "cells": [
  {
   "cell_type": "code",
   "execution_count": 128,
   "id": "c29f49a1",
   "metadata": {},
   "outputs": [],
   "source": [
    "class Solution:\n",
    "    def wordBreak(self, s, wordDict):\n",
    "\n",
    "        dp = [False] * (len(s)+1)\n",
    "        dp[0] = True\n",
    "        for i in range(1, len(s)+1):\n",
    "            for j in range(1, len(s)):\n",
    "                if dp[i] and s[i:j+1] in wordDict:\n",
    "                    dp[j+1] = True\n",
    "        return dp[-1]\n",
    "\n",
    "        for i in range(len(s)):\n",
    "            for j in range(i, len(s)):\n",
    "                if dp[i] and s[i: j+1] in wordDict:\n",
    "                    dp[j+1] = True\n",
    "                    \n",
    "        return dp[-1]\n",
    "    \n",
    "\n",
    "    \n",
    "        for i in range(1, len(s)+1):\n",
    "            for j in range(i):\n",
    "                if dp[j] and s[j:i] in wordDict:\n",
    "\t\t\t\t\tdp[i] = True\n",
    "                    break\n",
    "                    \n",
    "        return dp[-1]    \n",
    "        "
   ]
  },
  {
   "cell_type": "code",
   "execution_count": 129,
   "id": "6d2b0a51",
   "metadata": {},
   "outputs": [
    {
     "name": "stdout",
     "output_type": "stream",
     "text": [
      "applepenapple\n",
      "penapple\n",
      "apple\n",
      "\n",
      "found it\n",
      "True\n"
     ]
    }
   ],
   "source": [
    "\n",
    "s = \"applepenapple\"\n",
    "wordDict = [\"apple\",\"pen\"]    \n",
    "\n",
    "answer = Solution()\n",
    "print(answer.wordBreak(s, wordDict))\n",
    "    \n"
   ]
  },
  {
   "cell_type": "code",
   "execution_count": 81,
   "id": "ebf8e7f7",
   "metadata": {},
   "outputs": [
    {
     "ename": "TypeError",
     "evalue": "add() takes exactly one argument (0 given)",
     "output_type": "error",
     "traceback": [
      "\u001b[0;31m---------------------------------------------------------------------------\u001b[0m",
      "\u001b[0;31mTypeError\u001b[0m                                 Traceback (most recent call last)",
      "\u001b[0;32m<ipython-input-81-83421aa2f78e>\u001b[0m in \u001b[0;36m<module>\u001b[0;34m\u001b[0m\n\u001b[1;32m      1\u001b[0m \u001b[0mresult\u001b[0m \u001b[0;34m=\u001b[0m \u001b[0mset\u001b[0m\u001b[0;34m(\u001b[0m\u001b[0;34m)\u001b[0m\u001b[0;34m\u001b[0m\u001b[0;34m\u001b[0m\u001b[0m\n\u001b[0;32m----> 2\u001b[0;31m \u001b[0mresult\u001b[0m\u001b[0;34m.\u001b[0m\u001b[0madd\u001b[0m\u001b[0;34m(\u001b[0m\u001b[0;34m)\u001b[0m\u001b[0;34m\u001b[0m\u001b[0;34m\u001b[0m\u001b[0m\n\u001b[0m",
      "\u001b[0;31mTypeError\u001b[0m: add() takes exactly one argument (0 given)"
     ]
    }
   ],
   "source": [
    "result = set()\n",
    "result.add()\n"
   ]
  },
  {
   "cell_type": "code",
   "execution_count": 75,
   "id": "3f45368c",
   "metadata": {},
   "outputs": [
    {
     "name": "stdout",
     "output_type": "stream",
     "text": [
      "[[0, 0], [0, 0], [0, 0], [0, 0], [0, 0]]\n"
     ]
    }
   ],
   "source": [
    "\n",
    "ny, nx = 5,2\n",
    "\n",
    "dp = [[0]*nx for j in range(0,ny)]\n",
    "print(dp)\n",
    "\n"
   ]
  },
  {
   "cell_type": "code",
   "execution_count": null,
   "id": "bf8c70f3",
   "metadata": {},
   "outputs": [],
   "source": [
    "nums = [1, 2, 3, 4, 5]\n",
    "nums.pop(0)\n",
    "print(nums)\n"
   ]
  },
  {
   "cell_type": "code",
   "execution_count": null,
   "id": "6bdcf841",
   "metadata": {},
   "outputs": [],
   "source": [
    "64//12"
   ]
  },
  {
   "cell_type": "code",
   "execution_count": null,
   "id": "cce9ef2d",
   "metadata": {},
   "outputs": [],
   "source": []
  },
  {
   "cell_type": "code",
   "execution_count": null,
   "id": "89b5afa5",
   "metadata": {},
   "outputs": [],
   "source": []
  },
  {
   "cell_type": "code",
   "execution_count": null,
   "id": "4a9eef7e",
   "metadata": {},
   "outputs": [],
   "source": []
  }
 ],
 "metadata": {
  "kernelspec": {
   "display_name": "Python 3",
   "language": "python",
   "name": "python3"
  },
  "language_info": {
   "codemirror_mode": {
    "name": "ipython",
    "version": 3
   },
   "file_extension": ".py",
   "mimetype": "text/x-python",
   "name": "python",
   "nbconvert_exporter": "python",
   "pygments_lexer": "ipython3",
   "version": "3.8.5"
  }
 },
 "nbformat": 4,
 "nbformat_minor": 5
}
