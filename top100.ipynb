{
 "cells": [
  {
   "cell_type": "code",
   "execution_count": null,
   "id": "4dd71694",
   "metadata": {},
   "outputs": [],
   "source": [
    "class Solution:\n",
    "    def permute(self, nums):\n",
    "        def dfs_permute(nums, path):\n",
    "            if len(nums) == 0:\n",
    "                self.result.append(path)\n",
    "                return \n",
    "            for i in range(0, len(nums)):\n",
    "                dfs_permute(nums[:i] + nums[i+1:], path+[nums[i]])    \n",
    "    \n",
    "        self.result = []\n",
    "        dfs_permute(nums, [])\n",
    "        return self.result\n",
    "    \n",
    "        \n",
    "        \n",
    "         "
   ]
  },
  {
   "cell_type": "code",
   "execution_count": null,
   "id": "c1ef06df",
   "metadata": {},
   "outputs": [],
   "source": [
    "\n",
    "nums = [2,3,6,7]\n",
    "target = 7\n",
    "answer = Solution()\n",
    "print(answer.permute(nums))\n",
    "\n",
    "#0 6, 4 7 2\n"
   ]
  },
  {
   "cell_type": "code",
   "execution_count": null,
   "id": "7c48f1f6",
   "metadata": {},
   "outputs": [],
   "source": []
  },
  {
   "cell_type": "code",
   "execution_count": null,
   "id": "d8c03e12",
   "metadata": {},
   "outputs": [],
   "source": [
    "nums = [1, 2, 3, 4, 5]\n",
    "nums.pop(0)\n",
    "print(nums)\n"
   ]
  },
  {
   "cell_type": "code",
   "execution_count": 1,
   "id": "b4611b09",
   "metadata": {},
   "outputs": [
    {
     "data": {
      "text/plain": [
       "5"
      ]
     },
     "execution_count": 1,
     "metadata": {},
     "output_type": "execute_result"
    }
   ],
   "source": [
    "64//12"
   ]
  },
  {
   "cell_type": "code",
   "execution_count": null,
   "id": "e636e47b",
   "metadata": {},
   "outputs": [],
   "source": []
  },
  {
   "cell_type": "code",
   "execution_count": null,
   "id": "d4494778",
   "metadata": {},
   "outputs": [],
   "source": []
  },
  {
   "cell_type": "code",
   "execution_count": null,
   "id": "e4932150",
   "metadata": {},
   "outputs": [],
   "source": []
  }
 ],
 "metadata": {
  "kernelspec": {
   "display_name": "Python 3",
   "language": "python",
   "name": "python3"
  },
  "language_info": {
   "codemirror_mode": {
    "name": "ipython",
    "version": 3
   },
   "file_extension": ".py",
   "mimetype": "text/x-python",
   "name": "python",
   "nbconvert_exporter": "python",
   "pygments_lexer": "ipython3",
   "version": "3.8.5"
  }
 },
 "nbformat": 4,
 "nbformat_minor": 5
}
