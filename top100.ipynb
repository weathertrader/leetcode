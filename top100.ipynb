{
 "cells": [
  {
   "cell_type": "code",
   "execution_count": null,
   "id": "cce9ef2d",
   "metadata": {},
   "outputs": [],
   "source": [
    "class ListNode:\n",
    "    def __init__(self, val=0, next=None):\n",
    "        self.val = val\n",
    "        self.next = next\n",
    "class Solution: \n",
    "    def copyRandomList(self, head):\n",
    "        if not head:\n",
    "            return \n",
    "        cur, dic = head, {}\n",
    "        # copy nodes\n",
    "        while cur:\n",
    "            dic[cur] = Node(cur.val)\n",
    "            cur = cur.next\n",
    "        cur = head\n",
    "        # copy random pointers\n",
    "        while cur:\n",
    "            if cur.random:\n",
    "                dic[cur].random = dic[cur.random]\n",
    "            if cur.next:\n",
    "                dic[cur].next = dic[cur.next]\n",
    "            cur = cur.next\n",
    "        return dic[head]        \n",
    "        "
   ]
  },
  {
   "cell_type": "code",
   "execution_count": null,
   "id": "89b5afa5",
   "metadata": {},
   "outputs": [],
   "source": [
    "\n",
    "list1 = [1,2,4]\n",
    "list2 = [1,3,4]\n",
    "print(Solution().removeNthFromEnd\n",
    "      \n"
   ]
  },
  {
   "cell_type": "code",
   "execution_count": 2,
   "id": "cb4b76ad",
   "metadata": {},
   "outputs": [
    {
     "name": "stdout",
     "output_type": "stream",
     "text": [
      "2 4\n"
     ]
    }
   ],
   "source": [
    "print(42%10, 42//10)"
   ]
  },
  {
   "cell_type": "code",
   "execution_count": null,
   "id": "fd2b1fd0",
   "metadata": {},
   "outputs": [],
   "source": []
  },
  {
   "cell_type": "code",
   "execution_count": null,
   "id": "f7ff9579",
   "metadata": {},
   "outputs": [],
   "source": []
  },
  {
   "cell_type": "code",
   "execution_count": null,
   "id": "15b051f9",
   "metadata": {},
   "outputs": [],
   "source": []
  }
 ],
 "metadata": {
  "kernelspec": {
   "display_name": "Python 3",
   "language": "python",
   "name": "python3"
  },
  "language_info": {
   "codemirror_mode": {
    "name": "ipython",
    "version": 3
   },
   "file_extension": ".py",
   "mimetype": "text/x-python",
   "name": "python",
   "nbconvert_exporter": "python",
   "pygments_lexer": "ipython3",
   "version": "3.8.5"
  }
 },
 "nbformat": 4,
 "nbformat_minor": 5
}
